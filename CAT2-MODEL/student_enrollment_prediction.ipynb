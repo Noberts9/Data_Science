{
 "cells": [
  {
   "cell_type": "code",
   "execution_count": 2,
   "id": "3be20f23-36e2-48fc-b0c9-6df8a6519214",
   "metadata": {},
   "outputs": [
    {
     "name": "stdout",
     "output_type": "stream",
     "text": [
      "Dataset Preview: \n",
      "<class 'pandas.core.frame.DataFrame'>\n",
      "RangeIndex: 395 entries, 0 to 394\n",
      "Data columns (total 34 columns):\n",
      " #   Column                 Non-Null Count  Dtype \n",
      "---  ------                 --------------  ----- \n",
      " 0   student_id             395 non-null    int64 \n",
      " 1   school                 395 non-null    object\n",
      " 2   sex                    395 non-null    object\n",
      " 3   age                    395 non-null    int64 \n",
      " 4   address_type           395 non-null    object\n",
      " 5   family_size            395 non-null    object\n",
      " 6   parent_status          395 non-null    object\n",
      " 7   mother_education       395 non-null    object\n",
      " 8   father_education       395 non-null    object\n",
      " 9   mother_job             395 non-null    object\n",
      " 10  father_job             395 non-null    object\n",
      " 11  school_choice_reason   395 non-null    object\n",
      " 12  guardian               395 non-null    object\n",
      " 13  travel_time            395 non-null    object\n",
      " 14  study_time             395 non-null    object\n",
      " 15  class_failures         395 non-null    int64 \n",
      " 16  school_support         395 non-null    object\n",
      " 17  family_support         395 non-null    object\n",
      " 18  extra_paid_classes     395 non-null    object\n",
      " 19  activities             395 non-null    object\n",
      " 20  nursery_school         395 non-null    object\n",
      " 21  higher_ed              395 non-null    object\n",
      " 22  internet_access        395 non-null    object\n",
      " 23  romantic_relationship  395 non-null    object\n",
      " 24  family_relationship    395 non-null    int64 \n",
      " 25  free_time              395 non-null    int64 \n",
      " 26  social                 395 non-null    int64 \n",
      " 27  weekday_alcohol        395 non-null    int64 \n",
      " 28  weekend_alcohol        395 non-null    int64 \n",
      " 29  health                 395 non-null    int64 \n",
      " 30  absences               395 non-null    int64 \n",
      " 31  grade_1                395 non-null    int64 \n",
      " 32  grade_2                395 non-null    int64 \n",
      " 33  final_grade            395 non-null    int64 \n",
      "dtypes: int64(13), object(21)\n",
      "memory usage: 105.0+ KB\n",
      "None\n"
     ]
    }
   ],
   "source": [
    "import pandas as pd\n",
    "data = pd.read_csv(\"student_math_clean.csv\")\n",
    "print(\"Dataset Preview: \")\n",
    "data.head(10)\n",
    "\n",
    "print(data.info())"
   ]
  },
  {
   "cell_type": "code",
   "execution_count": 3,
   "id": "07148fc4-5dd1-4370-8cc6-4265711dc564",
   "metadata": {},
   "outputs": [
    {
     "name": "stdout",
     "output_type": "stream",
     "text": [
      "Encoded Data Preview\n",
      "   student_id  age  class_failures  family_relationship  free_time  social  \\\n",
      "0           1   18               0                    4          3       4   \n",
      "1           2   17               0                    5          3       3   \n",
      "2           3   15               3                    4          3       2   \n",
      "3           4   15               0                    3          2       2   \n",
      "4           5   16               0                    4          3       2   \n",
      "\n",
      "   weekday_alcohol  weekend_alcohol  health  absences  ...  \\\n",
      "0                1                1       3         6  ...   \n",
      "1                1                1       3         4  ...   \n",
      "2                2                3       3        10  ...   \n",
      "3                1                1       5         2  ...   \n",
      "4                1                2       5         4  ...   \n",
      "\n",
      "   study_time_<2 hours  study_time_>10 hours  school_support_yes  \\\n",
      "0                False                 False                True   \n",
      "1                False                 False               False   \n",
      "2                False                 False                True   \n",
      "3                False                 False               False   \n",
      "4                False                 False               False   \n",
      "\n",
      "   family_support_yes  extra_paid_classes_yes  activities_yes  \\\n",
      "0               False                   False           False   \n",
      "1                True                   False           False   \n",
      "2               False                    True           False   \n",
      "3                True                    True            True   \n",
      "4                True                    True           False   \n",
      "\n",
      "   nursery_school_yes  higher_ed_yes  internet_access_yes  \\\n",
      "0                True           True                False   \n",
      "1               False           True                 True   \n",
      "2                True           True                 True   \n",
      "3                True           True                 True   \n",
      "4                True           True                False   \n",
      "\n",
      "   romantic_relationship_yes  \n",
      "0                      False  \n",
      "1                      False  \n",
      "2                      False  \n",
      "3                       True  \n",
      "4                      False  \n",
      "\n",
      "[5 rows x 53 columns]\n"
     ]
    }
   ],
   "source": [
    "data_encoded = pd.get_dummies(data, drop_first=True)\n",
    "print('Encoded Data Preview')\n",
    "print(data_encoded.head())"
   ]
  },
  {
   "cell_type": "code",
   "execution_count": 4,
   "id": "078adeb3-b322-4433-a8aa-0011bad09431",
   "metadata": {},
   "outputs": [
    {
     "name": "stdout",
     "output_type": "stream",
     "text": [
      "\n",
      "Target Distribution (Graduation Likelihood):\n",
      "graduation_likelihood\n",
      "1    265\n",
      "0    130\n",
      "Name: count, dtype: int64\n"
     ]
    }
   ],
   "source": [
    "# Define a binary target based on a threshold on 'final_grade'\n",
    "# Here, 10 is chosen as the threshold; adjust as needed\n",
    "data_encoded['graduation_likelihood'] = (data_encoded['final_grade'] >= 10).astype(int)\n",
    "\n",
    "# Check the distribution of the target variable\n",
    "print(\"\\nTarget Distribution (Graduation Likelihood):\")\n",
    "print(data_encoded['graduation_likelihood'].value_counts())\n"
   ]
  },
  {
   "cell_type": "code",
   "execution_count": 5,
   "id": "a2b96b51-6121-46b8-a23c-805faebc1255",
   "metadata": {},
   "outputs": [
    {
     "name": "stdout",
     "output_type": "stream",
     "text": [
      "\n",
      "Features Shape: (395, 51)\n",
      "Target Shape: (395,)\n"
     ]
    }
   ],
   "source": [
    "# Drop unnecessary columns\n",
    "features = data_encoded.drop(columns=['student_id', 'final_grade', 'graduation_likelihood'])\n",
    "target = data_encoded['graduation_likelihood']\n",
    "\n",
    "# Display the shape of the features and target to confirm\n",
    "print(\"\\nFeatures Shape:\", features.shape)\n",
    "print(\"Target Shape:\", target.shape)\n"
   ]
  },
  {
   "cell_type": "code",
   "execution_count": 6,
   "id": "b9f38a05-a9b6-4411-9cdc-38f28c1a1bb9",
   "metadata": {},
   "outputs": [
    {
     "name": "stdout",
     "output_type": "stream",
     "text": [
      "\n",
      "Training Set Shape (X_train): (316, 51)\n",
      "Testing Set Shape (X_test): (79, 51)\n",
      "Training Target Shape (y_train): (316,)\n",
      "Testing Target Shape (y_test): (79,)\n"
     ]
    }
   ],
   "source": [
    "from sklearn.model_selection import train_test_split\n",
    "\n",
    "# Split data into training and testing sets\n",
    "X_train, X_test, y_train, y_test = train_test_split(features, target, test_size=0.2, random_state=42)\n",
    "\n",
    "# Confirm the split by checking shapes\n",
    "print(\"\\nTraining Set Shape (X_train):\", X_train.shape)\n",
    "print(\"Testing Set Shape (X_test):\", X_test.shape)\n",
    "print(\"Training Target Shape (y_train):\", y_train.shape)\n",
    "print(\"Testing Target Shape (y_test):\", y_test.shape)\n"
   ]
  },
  {
   "cell_type": "code",
   "execution_count": 8,
   "id": "15aaa29f-01aa-49ed-97e5-78b8029e0554",
   "metadata": {},
   "outputs": [
    {
     "name": "stdout",
     "output_type": "stream",
     "text": [
      "Model Training Complete\n"
     ]
    }
   ],
   "source": [
    "## BUILDING THE MODEL\n",
    "from sklearn.ensemble import RandomForestClassifier\n",
    "\n",
    "# Initialize the Random Forest Classifier\n",
    "rf_model = RandomForestClassifier(random_state=42)\n",
    "# Fit the model on the training data\n",
    "rf_model.fit(X_train, y_train)\n",
    "\n",
    "print(\"Model Training Complete\")\n",
    "\n"
   ]
  },
  {
   "cell_type": "code",
   "execution_count": 9,
   "id": "38b834ec-6a92-4460-b00c-edb96705e979",
   "metadata": {},
   "outputs": [
    {
     "name": "stdout",
     "output_type": "stream",
     "text": [
      "\n",
      "Sample Predictions:\n",
      "[0 1 0 1 0 1 1 0 0 1]\n"
     ]
    }
   ],
   "source": [
    "# Predict on the test set\n",
    "y_pred = rf_model.predict(X_test)\n",
    "\n",
    "# Display a few predictions for review\n",
    "print(\"\\nSample Predictions:\")\n",
    "print(y_pred[:10])\n"
   ]
  },
  {
   "cell_type": "code",
   "execution_count": 10,
   "id": "be94864a-e32a-4a78-9a2d-e355833e5989",
   "metadata": {},
   "outputs": [
    {
     "name": "stdout",
     "output_type": "stream",
     "text": [
      "\n",
      "Model Evaluation Metrics:\n",
      "Accuracy: 0.9113924050632911\n",
      "Precision: 0.9591836734693877\n",
      "Recall: 0.9038461538461539\n",
      "F1 Score: 0.9306930693069307\n"
     ]
    }
   ],
   "source": [
    "## EVALUATE MODEL PERFORMANCE\n",
    "from sklearn.metrics import accuracy_score, precision_score, recall_score, f1_score\n",
    "\n",
    "# Calculate evaluation metrics\n",
    "accuracy = accuracy_score(y_test, y_pred)\n",
    "precision = precision_score(y_test, y_pred)\n",
    "recall = recall_score(y_test, y_pred)\n",
    "f1 = f1_score(y_test, y_pred)\n",
    "\n",
    "print(\"\\nModel Evaluation Metrics:\")\n",
    "print(\"Accuracy:\", accuracy)\n",
    "print(\"Precision:\", precision)\n",
    "print(\"Recall:\", recall)\n",
    "print(\"F1 Score:\", f1)\n"
   ]
  },
  {
   "cell_type": "code",
   "execution_count": 11,
   "id": "2a57f531-9c30-4cab-abbc-d9aa773c5f02",
   "metadata": {},
   "outputs": [
    {
     "name": "stdout",
     "output_type": "stream",
     "text": [
      "ANALYZING FEATURE IMPORTANCE:\n"
     ]
    },
    {
     "data": {
      "image/png": "[encoded data removed]",
      "text/plain": [
       "<Figure size 1000x800 with 1 Axes>"
      ]
     },
     "metadata": {},
     "output_type": "display_data"
    }
   ],
   "source": [
    "print(\"ANALYZING FEATURE IMPORTANCE:\")\n",
    "import matplotlib.pyplot as plt\n",
    "\n",
    "# Get feature importances and sort them\n",
    "importances = rf_model.feature_importances_\n",
    "indices = importances.argsort()[::-1]  # Sort in descending order\n",
    "features_sorted = [features.columns[i] for i in indices]\n",
    "\n",
    "# Plot feature importances\n",
    "plt.figure(figsize=(10, 8))\n",
    "plt.barh(features_sorted[:10], importances[indices][:10], color=\"b\")\n",
    "plt.xlabel(\"Feature Importance Score\")\n",
    "plt.title(\"Top 10 Important Features in Graduation Prediction\")\n",
    "plt.gca().invert_yaxis()\n",
    "plt.show()\n"
   ]
  },
  {
   "cell_type": "code",
   "execution_count": 12,
   "id": "cbe2b660-5d40-42cf-aab2-1dcc801ea377",
   "metadata": {},
   "outputs": [
    {
     "name": "stdout",
     "output_type": "stream",
     "text": [
      "\n",
      "Best Parameters: {'max_depth': None, 'min_samples_split': 2, 'n_estimators': 150}\n",
      "Best Cross-Validation Score: 0.9144841269841268\n"
     ]
    }
   ],
   "source": [
    "## FINE TUNING THE MODEL PERFORMANCE BY ADJUSTING HYPERPARAMETERS\n",
    "from sklearn.model_selection import GridSearchCV\n",
    "\n",
    "# Define the parameter grid\n",
    "param_grid = {\n",
    "    'n_estimators': [50, 100, 150],          # Number of trees\n",
    "    'max_depth': [None, 10, 20, 30],         # Max depth of each tree\n",
    "    'min_samples_split': [2, 5, 10]          # Minimum samples for splitting\n",
    "}\n",
    "\n",
    "# Initialize GridSearchCV with the Random Forest model and parameter grid\n",
    "grid_search = GridSearchCV(estimator=rf_model, param_grid=param_grid, cv=5, scoring='accuracy', n_jobs=-1)\n",
    "\n",
    "# Fit GridSearchCV\n",
    "grid_search.fit(X_train, y_train)\n",
    "\n",
    "# Display the best parameters and best score\n",
    "best_params = grid_search.best_params_\n",
    "best_score = grid_search.best_score_\n",
    "\n",
    "print(\"\\nBest Parameters:\", best_params)\n",
    "print(\"Best Cross-Validation Score:\", best_score)\n"
   ]
  },
  {
   "cell_type": "code",
   "execution_count": 13,
   "id": "6b0a070c-cf44-4758-9c15-609a884024ba",
   "metadata": {},
   "outputs": [
    {
     "name": "stdout",
     "output_type": "stream",
     "text": [
      "\n",
      "Optimized Model Training Complete\n"
     ]
    }
   ],
   "source": [
    "# TRAIN OPTIMIZED MODEL WITH BEST PARAMETERS\n",
    "# Initialize the Random Forest model with the best parameters\n",
    "optimized_rf_model = RandomForestClassifier(**best_params, random_state=42)\n",
    "\n",
    "# Train the optimized model\n",
    "optimized_rf_model.fit(X_train, y_train)\n",
    "\n",
    "print(\"\\nOptimized Model Training Complete\")\n"
   ]
  },
  {
   "cell_type": "code",
   "execution_count": 14,
   "id": "1f5bd608-7a25-461c-8473-8af94841a4c4",
   "metadata": {},
   "outputs": [
    {
     "name": "stdout",
     "output_type": "stream",
     "text": [
      "\n",
      "Optimized Model Evaluation Metrics:\n",
      "Accuracy: 0.9113924050632911\n",
      "Precision: 0.9591836734693877\n",
      "Recall: 0.9038461538461539\n",
      "F1 Score: 0.9306930693069307\n"
     ]
    }
   ],
   "source": [
    "# EVALUATE OPTIMIZED MODEL\n",
    "# Predict on the test set with the optimized model\n",
    "y_pred_optimized = optimized_rf_model.predict(X_test)\n",
    "\n",
    "# Calculate evaluation metrics\n",
    "accuracy_opt = accuracy_score(y_test, y_pred_optimized)\n",
    "precision_opt = precision_score(y_test, y_pred_optimized)\n",
    "recall_opt = recall_score(y_test, y_pred_optimized)\n",
    "f1_opt = f1_score(y_test, y_pred_optimized)\n",
    "\n",
    "print(\"\\nOptimized Model Evaluation Metrics:\")\n",
    "print(\"Accuracy:\", accuracy_opt)\n",
    "print(\"Precision:\", precision_opt)\n",
    "print(\"Recall:\", recall_opt)\n",
    "print(\"F1 Score:\", f1_opt)\n"
   ]
  },
  {
   "cell_type": "code",
   "execution_count": 15,
   "id": "6d617cd6-5c78-4c64-b097-6501b5a51844",
   "metadata": {},
   "outputs": [
    {
     "data": {
      "image/png": "[encoded data removed]",
      "text/plain": [
       "<Figure size 1000x800 with 1 Axes>"
      ]
     },
     "metadata": {},
     "output_type": "display_data"
    }
   ],
   "source": [
    "# Get feature importances from the optimized model\n",
    "importances_opt = optimized_rf_model.feature_importances_\n",
    "indices_opt = importances_opt.argsort()[::-1]\n",
    "features_sorted_opt = [features.columns[i] for i in indices_opt]\n",
    "\n",
    "# Plot top 10 feature importances\n",
    "plt.figure(figsize=(10, 8))\n",
    "plt.barh(features_sorted_opt[:10], importances_opt[indices_opt][:10], color=\"g\")\n",
    "plt.xlabel(\"Feature Importance Score\")\n",
    "plt.title(\"Top 10 Important Features in Optimized Graduation Prediction Model\")\n",
    "plt.gca().invert_yaxis()\n",
    "plt.show()\n"
   ]
  },
  {
   "cell_type": "code",
   "execution_count": 17,
   "id": "79ee6493-4592-4a84-b78d-f7dd9842e458",
   "metadata": {},
   "outputs": [
    {
     "name": "stdout",
     "output_type": "stream",
     "text": [
      "Dataset Preview:\n",
      "  gender NationalITy PlaceofBirth     StageID GradeID SectionID Topic  \\\n",
      "0      M          KW       KuwaIT  lowerlevel    G-04         A    IT   \n",
      "1      M          KW       KuwaIT  lowerlevel    G-04         A    IT   \n",
      "2      M          KW       KuwaIT  lowerlevel    G-04         A    IT   \n",
      "3      M          KW       KuwaIT  lowerlevel    G-04         A    IT   \n",
      "4      M          KW       KuwaIT  lowerlevel    G-04         A    IT   \n",
      "\n",
      "  Semester Relation  raisedhands  VisITedResources  AnnouncementsView  \\\n",
      "0        F   Father           15                16                  2   \n",
      "1        F   Father           20                20                  3   \n",
      "2        F   Father           10                 7                  0   \n",
      "3        F   Father           30                25                  5   \n",
      "4        F   Father           40                50                 12   \n",
      "\n",
      "   Discussion ParentAnsweringSurvey ParentschoolSatisfaction  \\\n",
      "0          20                   Yes                     Good   \n",
      "1          25                   Yes                     Good   \n",
      "2          30                    No                      Bad   \n",
      "3          35                    No                      Bad   \n",
      "4          50                    No                      Bad   \n",
      "\n",
      "  StudentAbsenceDays Class  \n",
      "0            Under-7     M  \n",
      "1            Under-7     M  \n",
      "2            Above-7     L  \n",
      "3            Above-7     L  \n",
      "4            Above-7     M  \n",
      "\n",
      "Missing Values and Data Types:\n",
      "<class 'pandas.core.frame.DataFrame'>\n",
      "RangeIndex: 480 entries, 0 to 479\n",
      "Data columns (total 17 columns):\n",
      " #   Column                    Non-Null Count  Dtype \n",
      "---  ------                    --------------  ----- \n",
      " 0   gender                    480 non-null    object\n",
      " 1   NationalITy               480 non-null    object\n",
      " 2   PlaceofBirth              480 non-null    object\n",
      " 3   StageID                   480 non-null    object\n",
      " 4   GradeID                   480 non-null    object\n",
      " 5   SectionID                 480 non-null    object\n",
      " 6   Topic                     480 non-null    object\n",
      " 7   Semester                  480 non-null    object\n",
      " 8   Relation                  480 non-null    object\n",
      " 9   raisedhands               480 non-null    int64 \n",
      " 10  VisITedResources          480 non-null    int64 \n",
      " 11  AnnouncementsView         480 non-null    int64 \n",
      " 12  Discussion                480 non-null    int64 \n",
      " 13  ParentAnsweringSurvey     480 non-null    object\n",
      " 14  ParentschoolSatisfaction  480 non-null    object\n",
      " 15  StudentAbsenceDays        480 non-null    object\n",
      " 16  Class                     480 non-null    object\n",
      "dtypes: int64(4), object(13)\n",
      "memory usage: 63.9+ KB\n",
      "None\n"
     ]
    }
   ],
   "source": [
    "## Second Model\n",
    "# Import necessary libraries\n",
    "import pandas as pd\n",
    "\n",
    "# Load the dataset\n",
    "data = pd.read_csv('xAPI-Edu-Data.csv')  # Adjust the file path if necessary\n",
    "\n",
    "# Display the first few rows of the dataset\n",
    "print(\"Dataset Preview:\")\n",
    "print(data.head())\n",
    "\n",
    "# Check for any missing values and data types\n",
    "print(\"\\nMissing Values and Data Types:\")\n",
    "print(data.info())\n"
   ]
  },
  {
   "cell_type": "code",
   "execution_count": 18,
   "id": "08a4c37c-2d74-4c7b-81fc-7396989730e3",
   "metadata": {},
   "outputs": [
    {
     "name": "stdout",
     "output_type": "stream",
     "text": [
      "\n",
      "Encoded Data Preview:\n",
      "   raisedhands  VisITedResources  AnnouncementsView  Discussion  gender_M  \\\n",
      "0           15                16                  2          20      True   \n",
      "1           20                20                  3          25      True   \n",
      "2           10                 7                  0          30      True   \n",
      "3           30                25                  5          35      True   \n",
      "4           40                50                 12          50      True   \n",
      "\n",
      "   NationalITy_Iran  NationalITy_Iraq  NationalITy_Jordan  NationalITy_KW  \\\n",
      "0             False             False               False            True   \n",
      "1             False             False               False            True   \n",
      "2             False             False               False            True   \n",
      "3             False             False               False            True   \n",
      "4             False             False               False            True   \n",
      "\n",
      "   NationalITy_Lybia  ...  Topic_Quran  Topic_Science  Topic_Spanish  \\\n",
      "0              False  ...        False          False          False   \n",
      "1              False  ...        False          False          False   \n",
      "2              False  ...        False          False          False   \n",
      "3              False  ...        False          False          False   \n",
      "4              False  ...        False          False          False   \n",
      "\n",
      "   Semester_S  Relation_Mum  ParentAnsweringSurvey_Yes  \\\n",
      "0       False         False                       True   \n",
      "1       False         False                       True   \n",
      "2       False         False                      False   \n",
      "3       False         False                      False   \n",
      "4       False         False                      False   \n",
      "\n",
      "   ParentschoolSatisfaction_Good  StudentAbsenceDays_Under-7  Class_L  Class_M  \n",
      "0                           True                        True    False     True  \n",
      "1                           True                        True    False     True  \n",
      "2                          False                       False     True    False  \n",
      "3                          False                       False     True    False  \n",
      "4                          False                       False    False     True  \n",
      "\n",
      "[5 rows x 62 columns]\n"
     ]
    }
   ],
   "source": [
    "# Handle any missing values (example: drop rows or fill with median/mean)\n",
    "data = data.dropna()  # Adjust strategy if necessary based on dataset preview\n",
    "\n",
    "# One-hot encode categorical variables\n",
    "data_encoded = pd.get_dummies(data, drop_first=True)\n",
    "\n",
    "# Preview the encoded data to ensure categorical variables are processed\n",
    "print(\"\\nEncoded Data Preview:\")\n",
    "print(data_encoded.head())\n"
   ]
  },
  {
   "cell_type": "code",
   "execution_count": 19,
   "id": "dc25d7ff-1bfb-4fee-8b9e-5aed0abf57b3",
   "metadata": {},
   "outputs": [
    {
     "ename": "KeyError",
     "evalue": "'enrollment_status'",
     "output_type": "error",
     "traceback": [
      "\u001b[1;31m---------------------------------------------------------------------------\u001b[0m",
      "\u001b[1;31mKeyError\u001b[0m                                  Traceback (most recent call last)",
      "File \u001b[1;32m~\\AppData\\Local\\Packages\\PythonSoftwareFoundation.Python.3.8_qbz5n2kfra8p0\\LocalCache\\local-packages\\Python38\\site-packages\\pandas\\core\\indexes\\base.py:3653\u001b[0m, in \u001b[0;36mIndex.get_loc\u001b[1;34m(self, key)\u001b[0m\n\u001b[0;32m   3652\u001b[0m \u001b[38;5;28;01mtry\u001b[39;00m:\n\u001b[1;32m-> 3653\u001b[0m     \u001b[38;5;28;01mreturn\u001b[39;00m \u001b[38;5;28;43mself\u001b[39;49m\u001b[38;5;241;43m.\u001b[39;49m\u001b[43m_engine\u001b[49m\u001b[38;5;241;43m.\u001b[39;49m\u001b[43mget_loc\u001b[49m\u001b[43m(\u001b[49m\u001b[43mcasted_key\u001b[49m\u001b[43m)\u001b[49m\n\u001b[0;32m   3654\u001b[0m \u001b[38;5;28;01mexcept\u001b[39;00m \u001b[38;5;167;01mKeyError\u001b[39;00m \u001b[38;5;28;01mas\u001b[39;00m err:\n",
      "File \u001b[1;32m~\\AppData\\Local\\Packages\\PythonSoftwareFoundation.Python.3.8_qbz5n2kfra8p0\\LocalCache\\local-packages\\Python38\\site-packages\\pandas\\_libs\\index.pyx:147\u001b[0m, in \u001b[0;36mpandas._libs.index.IndexEngine.get_loc\u001b[1;34m()\u001b[0m\n",
      "File \u001b[1;32m~\\AppData\\Local\\Packages\\PythonSoftwareFoundation.Python.3.8_qbz5n2kfra8p0\\LocalCache\\local-packages\\Python38\\site-packages\\pandas\\_libs\\index.pyx:176\u001b[0m, in \u001b[0;36mpandas._libs.index.IndexEngine.get_loc\u001b[1;34m()\u001b[0m\n",
      "File \u001b[1;32mpandas\\_libs\\hashtable_class_helper.pxi:7080\u001b[0m, in \u001b[0;36mpandas._libs.hashtable.PyObjectHashTable.get_item\u001b[1;34m()\u001b[0m\n",
      "File \u001b[1;32mpandas\\_libs\\hashtable_class_helper.pxi:7088\u001b[0m, in \u001b[0;36mpandas._libs.hashtable.PyObjectHashTable.get_item\u001b[1;34m()\u001b[0m\n",
      "\u001b[1;31mKeyError\u001b[0m: 'enrollment_status'",
      "\nThe above exception was the direct cause of the following exception:\n",
      "\u001b[1;31mKeyError\u001b[0m                                  Traceback (most recent call last)",
      "Cell \u001b[1;32mIn[19], line 3\u001b[0m\n\u001b[0;32m      1\u001b[0m \u001b[38;5;66;03m# Define binary targets for enrollment and graduation support needs\u001b[39;00m\n\u001b[0;32m      2\u001b[0m \u001b[38;5;66;03m# Replace 'enrollment_status' and 'final_grade' with the actual column names if they differ\u001b[39;00m\n\u001b[1;32m----> 3\u001b[0m data_encoded[\u001b[38;5;124m'\u001b[39m\u001b[38;5;124menrollment_likelihood\u001b[39m\u001b[38;5;124m'\u001b[39m] \u001b[38;5;241m=\u001b[39m (\u001b[43mdata_encoded\u001b[49m\u001b[43m[\u001b[49m\u001b[38;5;124;43m'\u001b[39;49m\u001b[38;5;124;43menrollment_status\u001b[39;49m\u001b[38;5;124;43m'\u001b[39;49m\u001b[43m]\u001b[49m \u001b[38;5;241m==\u001b[39m \u001b[38;5;124m'\u001b[39m\u001b[38;5;124mEnrolled\u001b[39m\u001b[38;5;124m'\u001b[39m)\u001b[38;5;241m.\u001b[39mastype(\u001b[38;5;28mint\u001b[39m)\n\u001b[0;32m      4\u001b[0m data_encoded[\u001b[38;5;124m'\u001b[39m\u001b[38;5;124mgraduation_support_needed\u001b[39m\u001b[38;5;124m'\u001b[39m] \u001b[38;5;241m=\u001b[39m (data_encoded[\u001b[38;5;124m'\u001b[39m\u001b[38;5;124mfinal_grade\u001b[39m\u001b[38;5;124m'\u001b[39m] \u001b[38;5;241m<\u001b[39m \u001b[38;5;241m10\u001b[39m)\u001b[38;5;241m.\u001b[39mastype(\u001b[38;5;28mint\u001b[39m)\n\u001b[0;32m      6\u001b[0m \u001b[38;5;66;03m# Check the distribution of each target variable\u001b[39;00m\n",
      "File \u001b[1;32m~\\AppData\\Local\\Packages\\PythonSoftwareFoundation.Python.3.8_qbz5n2kfra8p0\\LocalCache\\local-packages\\Python38\\site-packages\\pandas\\core\\frame.py:3761\u001b[0m, in \u001b[0;36mDataFrame.__getitem__\u001b[1;34m(self, key)\u001b[0m\n\u001b[0;32m   3759\u001b[0m \u001b[38;5;28;01mif\u001b[39;00m \u001b[38;5;28mself\u001b[39m\u001b[38;5;241m.\u001b[39mcolumns\u001b[38;5;241m.\u001b[39mnlevels \u001b[38;5;241m>\u001b[39m \u001b[38;5;241m1\u001b[39m:\n\u001b[0;32m   3760\u001b[0m     \u001b[38;5;28;01mreturn\u001b[39;00m \u001b[38;5;28mself\u001b[39m\u001b[38;5;241m.\u001b[39m_getitem_multilevel(key)\n\u001b[1;32m-> 3761\u001b[0m indexer \u001b[38;5;241m=\u001b[39m \u001b[38;5;28;43mself\u001b[39;49m\u001b[38;5;241;43m.\u001b[39;49m\u001b[43mcolumns\u001b[49m\u001b[38;5;241;43m.\u001b[39;49m\u001b[43mget_loc\u001b[49m\u001b[43m(\u001b[49m\u001b[43mkey\u001b[49m\u001b[43m)\u001b[49m\n\u001b[0;32m   3762\u001b[0m \u001b[38;5;28;01mif\u001b[39;00m is_integer(indexer):\n\u001b[0;32m   3763\u001b[0m     indexer \u001b[38;5;241m=\u001b[39m [indexer]\n",
      "File \u001b[1;32m~\\AppData\\Local\\Packages\\PythonSoftwareFoundation.Python.3.8_qbz5n2kfra8p0\\LocalCache\\local-packages\\Python38\\site-packages\\pandas\\core\\indexes\\base.py:3655\u001b[0m, in \u001b[0;36mIndex.get_loc\u001b[1;34m(self, key)\u001b[0m\n\u001b[0;32m   3653\u001b[0m     \u001b[38;5;28;01mreturn\u001b[39;00m \u001b[38;5;28mself\u001b[39m\u001b[38;5;241m.\u001b[39m_engine\u001b[38;5;241m.\u001b[39mget_loc(casted_key)\n\u001b[0;32m   3654\u001b[0m \u001b[38;5;28;01mexcept\u001b[39;00m \u001b[38;5;167;01mKeyError\u001b[39;00m \u001b[38;5;28;01mas\u001b[39;00m err:\n\u001b[1;32m-> 3655\u001b[0m     \u001b[38;5;28;01mraise\u001b[39;00m \u001b[38;5;167;01mKeyError\u001b[39;00m(key) \u001b[38;5;28;01mfrom\u001b[39;00m \u001b[38;5;21;01merr\u001b[39;00m\n\u001b[0;32m   3656\u001b[0m \u001b[38;5;28;01mexcept\u001b[39;00m \u001b[38;5;167;01mTypeError\u001b[39;00m:\n\u001b[0;32m   3657\u001b[0m     \u001b[38;5;66;03m# If we have a listlike key, _check_indexing_error will raise\u001b[39;00m\n\u001b[0;32m   3658\u001b[0m     \u001b[38;5;66;03m#  InvalidIndexError. Otherwise we fall through and re-raise\u001b[39;00m\n\u001b[0;32m   3659\u001b[0m     \u001b[38;5;66;03m#  the TypeError.\u001b[39;00m\n\u001b[0;32m   3660\u001b[0m     \u001b[38;5;28mself\u001b[39m\u001b[38;5;241m.\u001b[39m_check_indexing_error(key)\n",
      "\u001b[1;31mKeyError\u001b[0m: 'enrollment_status'"
     ]
    }
   ],
   "source": [
    "# Define binary targets for enrollment and graduation support needs\n",
    "# Replace 'enrollment_status' and 'final_grade' with the actual column names if they differ\n",
    "data_encoded['enrollment_likelihood'] = (data_encoded['enrollment_status'] == 'Enrolled').astype(int)\n",
    "data_encoded['graduation_support_needed'] = (data_encoded['final_grade'] < 10).astype(int)\n",
    "\n",
    "# Check the distribution of each target variable\n",
    "print(\"\\nTarget Distributions:\")\n",
    "print(\"Enrollment Likelihood:\")\n",
    "print(data_encoded['enrollment_likelihood'].value_counts())\n",
    "print(\"\\nGraduation Support Needed:\")\n",
    "print(data_encoded['graduation_support_needed'].value_counts())\n"
   ]
  },
  {
   "cell_type": "code",
   "execution_count": 20,
   "id": "49c0dbd4-8262-493a-9ade-0ba4d4952b98",
   "metadata": {},
   "outputs": [
    {
     "ename": "KeyError",
     "evalue": "\"['student_id', 'enrollment_status', 'final_grade', 'enrollment_likelihood', 'graduation_support_needed'] not found in axis\"",
     "output_type": "error",
     "traceback": [
      "\u001b[1;31m---------------------------------------------------------------------------\u001b[0m",
      "\u001b[1;31mKeyError\u001b[0m                                  Traceback (most recent call last)",
      "Cell \u001b[1;32mIn[20], line 2\u001b[0m\n\u001b[0;32m      1\u001b[0m \u001b[38;5;66;03m# Drop columns that shouldn't be included as features\u001b[39;00m\n\u001b[1;32m----> 2\u001b[0m features \u001b[38;5;241m=\u001b[39m \u001b[43mdata_encoded\u001b[49m\u001b[38;5;241;43m.\u001b[39;49m\u001b[43mdrop\u001b[49m\u001b[43m(\u001b[49m\u001b[43mcolumns\u001b[49m\u001b[38;5;241;43m=\u001b[39;49m\u001b[43m[\u001b[49m\u001b[38;5;124;43m'\u001b[39;49m\u001b[38;5;124;43mstudent_id\u001b[39;49m\u001b[38;5;124;43m'\u001b[39;49m\u001b[43m,\u001b[49m\u001b[43m \u001b[49m\u001b[38;5;124;43m'\u001b[39;49m\u001b[38;5;124;43menrollment_status\u001b[39;49m\u001b[38;5;124;43m'\u001b[39;49m\u001b[43m,\u001b[49m\u001b[43m \u001b[49m\u001b[38;5;124;43m'\u001b[39;49m\u001b[38;5;124;43mfinal_grade\u001b[39;49m\u001b[38;5;124;43m'\u001b[39;49m\u001b[43m,\u001b[49m\u001b[43m \u001b[49m\u001b[38;5;124;43m'\u001b[39;49m\u001b[38;5;124;43menrollment_likelihood\u001b[39;49m\u001b[38;5;124;43m'\u001b[39;49m\u001b[43m,\u001b[49m\u001b[43m \u001b[49m\u001b[38;5;124;43m'\u001b[39;49m\u001b[38;5;124;43mgraduation_support_needed\u001b[39;49m\u001b[38;5;124;43m'\u001b[39;49m\u001b[43m]\u001b[49m\u001b[43m)\u001b[49m\n\u001b[0;32m      3\u001b[0m target_enrollment \u001b[38;5;241m=\u001b[39m data_encoded[\u001b[38;5;124m'\u001b[39m\u001b[38;5;124menrollment_likelihood\u001b[39m\u001b[38;5;124m'\u001b[39m]\n\u001b[0;32m      4\u001b[0m target_graduation \u001b[38;5;241m=\u001b[39m data_encoded[\u001b[38;5;124m'\u001b[39m\u001b[38;5;124mgraduation_support_needed\u001b[39m\u001b[38;5;124m'\u001b[39m]\n",
      "File \u001b[1;32m~\\AppData\\Local\\Packages\\PythonSoftwareFoundation.Python.3.8_qbz5n2kfra8p0\\LocalCache\\local-packages\\Python38\\site-packages\\pandas\\core\\frame.py:5258\u001b[0m, in \u001b[0;36mDataFrame.drop\u001b[1;34m(self, labels, axis, index, columns, level, inplace, errors)\u001b[0m\n\u001b[0;32m   5110\u001b[0m \u001b[38;5;28;01mdef\u001b[39;00m \u001b[38;5;21mdrop\u001b[39m(\n\u001b[0;32m   5111\u001b[0m     \u001b[38;5;28mself\u001b[39m,\n\u001b[0;32m   5112\u001b[0m     labels: IndexLabel \u001b[38;5;241m=\u001b[39m \u001b[38;5;28;01mNone\u001b[39;00m,\n\u001b[1;32m   (...)\u001b[0m\n\u001b[0;32m   5119\u001b[0m     errors: IgnoreRaise \u001b[38;5;241m=\u001b[39m \u001b[38;5;124m\"\u001b[39m\u001b[38;5;124mraise\u001b[39m\u001b[38;5;124m\"\u001b[39m,\n\u001b[0;32m   5120\u001b[0m ) \u001b[38;5;241m-\u001b[39m\u001b[38;5;241m>\u001b[39m DataFrame \u001b[38;5;241m|\u001b[39m \u001b[38;5;28;01mNone\u001b[39;00m:\n\u001b[0;32m   5121\u001b[0m \u001b[38;5;250m    \u001b[39m\u001b[38;5;124;03m\"\"\"\u001b[39;00m\n\u001b[0;32m   5122\u001b[0m \u001b[38;5;124;03m    Drop specified labels from rows or columns.\u001b[39;00m\n\u001b[0;32m   5123\u001b[0m \n\u001b[1;32m   (...)\u001b[0m\n\u001b[0;32m   5256\u001b[0m \u001b[38;5;124;03m            weight  1.0     0.8\u001b[39;00m\n\u001b[0;32m   5257\u001b[0m \u001b[38;5;124;03m    \"\"\"\u001b[39;00m\n\u001b[1;32m-> 5258\u001b[0m     \u001b[38;5;28;01mreturn\u001b[39;00m \u001b[38;5;28;43msuper\u001b[39;49m\u001b[43m(\u001b[49m\u001b[43m)\u001b[49m\u001b[38;5;241;43m.\u001b[39;49m\u001b[43mdrop\u001b[49m\u001b[43m(\u001b[49m\n\u001b[0;32m   5259\u001b[0m \u001b[43m        \u001b[49m\u001b[43mlabels\u001b[49m\u001b[38;5;241;43m=\u001b[39;49m\u001b[43mlabels\u001b[49m\u001b[43m,\u001b[49m\n\u001b[0;32m   5260\u001b[0m \u001b[43m        \u001b[49m\u001b[43maxis\u001b[49m\u001b[38;5;241;43m=\u001b[39;49m\u001b[43maxis\u001b[49m\u001b[43m,\u001b[49m\n\u001b[0;32m   5261\u001b[0m \u001b[43m        \u001b[49m\u001b[43mindex\u001b[49m\u001b[38;5;241;43m=\u001b[39;49m\u001b[43mindex\u001b[49m\u001b[43m,\u001b[49m\n\u001b[0;32m   5262\u001b[0m \u001b[43m        \u001b[49m\u001b[43mcolumns\u001b[49m\u001b[38;5;241;43m=\u001b[39;49m\u001b[43mcolumns\u001b[49m\u001b[43m,\u001b[49m\n\u001b[0;32m   5263\u001b[0m \u001b[43m        \u001b[49m\u001b[43mlevel\u001b[49m\u001b[38;5;241;43m=\u001b[39;49m\u001b[43mlevel\u001b[49m\u001b[43m,\u001b[49m\n\u001b[0;32m   5264\u001b[0m \u001b[43m        \u001b[49m\u001b[43minplace\u001b[49m\u001b[38;5;241;43m=\u001b[39;49m\u001b[43minplace\u001b[49m\u001b[43m,\u001b[49m\n\u001b[0;32m   5265\u001b[0m \u001b[43m        \u001b[49m\u001b[43merrors\u001b[49m\u001b[38;5;241;43m=\u001b[39;49m\u001b[43merrors\u001b[49m\u001b[43m,\u001b[49m\n\u001b[0;32m   5266\u001b[0m \u001b[43m    \u001b[49m\u001b[43m)\u001b[49m\n",
      "File \u001b[1;32m~\\AppData\\Local\\Packages\\PythonSoftwareFoundation.Python.3.8_qbz5n2kfra8p0\\LocalCache\\local-packages\\Python38\\site-packages\\pandas\\core\\generic.py:4549\u001b[0m, in \u001b[0;36mNDFrame.drop\u001b[1;34m(self, labels, axis, index, columns, level, inplace, errors)\u001b[0m\n\u001b[0;32m   4547\u001b[0m \u001b[38;5;28;01mfor\u001b[39;00m axis, labels \u001b[38;5;129;01min\u001b[39;00m axes\u001b[38;5;241m.\u001b[39mitems():\n\u001b[0;32m   4548\u001b[0m     \u001b[38;5;28;01mif\u001b[39;00m labels \u001b[38;5;129;01mis\u001b[39;00m \u001b[38;5;129;01mnot\u001b[39;00m \u001b[38;5;28;01mNone\u001b[39;00m:\n\u001b[1;32m-> 4549\u001b[0m         obj \u001b[38;5;241m=\u001b[39m \u001b[43mobj\u001b[49m\u001b[38;5;241;43m.\u001b[39;49m\u001b[43m_drop_axis\u001b[49m\u001b[43m(\u001b[49m\u001b[43mlabels\u001b[49m\u001b[43m,\u001b[49m\u001b[43m \u001b[49m\u001b[43maxis\u001b[49m\u001b[43m,\u001b[49m\u001b[43m \u001b[49m\u001b[43mlevel\u001b[49m\u001b[38;5;241;43m=\u001b[39;49m\u001b[43mlevel\u001b[49m\u001b[43m,\u001b[49m\u001b[43m \u001b[49m\u001b[43merrors\u001b[49m\u001b[38;5;241;43m=\u001b[39;49m\u001b[43merrors\u001b[49m\u001b[43m)\u001b[49m\n\u001b[0;32m   4551\u001b[0m \u001b[38;5;28;01mif\u001b[39;00m inplace:\n\u001b[0;32m   4552\u001b[0m     \u001b[38;5;28mself\u001b[39m\u001b[38;5;241m.\u001b[39m_update_inplace(obj)\n",
      "File \u001b[1;32m~\\AppData\\Local\\Packages\\PythonSoftwareFoundation.Python.3.8_qbz5n2kfra8p0\\LocalCache\\local-packages\\Python38\\site-packages\\pandas\\core\\generic.py:4591\u001b[0m, in \u001b[0;36mNDFrame._drop_axis\u001b[1;34m(self, labels, axis, level, errors, only_slice)\u001b[0m\n\u001b[0;32m   4589\u001b[0m         new_axis \u001b[38;5;241m=\u001b[39m axis\u001b[38;5;241m.\u001b[39mdrop(labels, level\u001b[38;5;241m=\u001b[39mlevel, errors\u001b[38;5;241m=\u001b[39merrors)\n\u001b[0;32m   4590\u001b[0m     \u001b[38;5;28;01melse\u001b[39;00m:\n\u001b[1;32m-> 4591\u001b[0m         new_axis \u001b[38;5;241m=\u001b[39m \u001b[43maxis\u001b[49m\u001b[38;5;241;43m.\u001b[39;49m\u001b[43mdrop\u001b[49m\u001b[43m(\u001b[49m\u001b[43mlabels\u001b[49m\u001b[43m,\u001b[49m\u001b[43m \u001b[49m\u001b[43merrors\u001b[49m\u001b[38;5;241;43m=\u001b[39;49m\u001b[43merrors\u001b[49m\u001b[43m)\u001b[49m\n\u001b[0;32m   4592\u001b[0m     indexer \u001b[38;5;241m=\u001b[39m axis\u001b[38;5;241m.\u001b[39mget_indexer(new_axis)\n\u001b[0;32m   4594\u001b[0m \u001b[38;5;66;03m# Case for non-unique axis\u001b[39;00m\n\u001b[0;32m   4595\u001b[0m \u001b[38;5;28;01melse\u001b[39;00m:\n",
      "File \u001b[1;32m~\\AppData\\Local\\Packages\\PythonSoftwareFoundation.Python.3.8_qbz5n2kfra8p0\\LocalCache\\local-packages\\Python38\\site-packages\\pandas\\core\\indexes\\base.py:6699\u001b[0m, in \u001b[0;36mIndex.drop\u001b[1;34m(self, labels, errors)\u001b[0m\n\u001b[0;32m   6697\u001b[0m \u001b[38;5;28;01mif\u001b[39;00m mask\u001b[38;5;241m.\u001b[39many():\n\u001b[0;32m   6698\u001b[0m     \u001b[38;5;28;01mif\u001b[39;00m errors \u001b[38;5;241m!=\u001b[39m \u001b[38;5;124m\"\u001b[39m\u001b[38;5;124mignore\u001b[39m\u001b[38;5;124m\"\u001b[39m:\n\u001b[1;32m-> 6699\u001b[0m         \u001b[38;5;28;01mraise\u001b[39;00m \u001b[38;5;167;01mKeyError\u001b[39;00m(\u001b[38;5;124mf\u001b[39m\u001b[38;5;124m\"\u001b[39m\u001b[38;5;132;01m{\u001b[39;00m\u001b[38;5;28mlist\u001b[39m(labels[mask])\u001b[38;5;132;01m}\u001b[39;00m\u001b[38;5;124m not found in axis\u001b[39m\u001b[38;5;124m\"\u001b[39m)\n\u001b[0;32m   6700\u001b[0m     indexer \u001b[38;5;241m=\u001b[39m indexer[\u001b[38;5;241m~\u001b[39mmask]\n\u001b[0;32m   6701\u001b[0m \u001b[38;5;28;01mreturn\u001b[39;00m \u001b[38;5;28mself\u001b[39m\u001b[38;5;241m.\u001b[39mdelete(indexer)\n",
      "\u001b[1;31mKeyError\u001b[0m: \"['student_id', 'enrollment_status', 'final_grade', 'enrollment_likelihood', 'graduation_support_needed'] not found in axis\""
     ]
    }
   ],
   "source": [
    "# Drop columns that shouldn't be included as features\n",
    "features = data_encoded.drop(columns=['student_id', 'enrollment_status', 'final_grade', 'enrollment_likelihood', 'graduation_support_needed'])\n",
    "target_enrollment = data_encoded['enrollment_likelihood']\n",
    "target_graduation = data_encoded['graduation_support_needed']\n",
    "\n",
    "# Confirm the shape of the features and targets\n",
    "print(\"\\nFeatures Shape:\", features.shape)\n",
    "print(\"Enrollment Target Shape:\", target_enrollment.shape)\n",
    "print(\"Graduation Support Target Shape:\", target_graduation.shape)\n"
   ]
  },
  {
   "cell_type": "code",
   "execution_count": 21,
   "id": "8196666d-9080-466e-a140-882f0e700b25",
   "metadata": {},
   "outputs": [
    {
     "ename": "NameError",
     "evalue": "name 'target_enrollment' is not defined",
     "output_type": "error",
     "traceback": [
      "\u001b[1;31m---------------------------------------------------------------------------\u001b[0m",
      "\u001b[1;31mNameError\u001b[0m                                 Traceback (most recent call last)",
      "Cell \u001b[1;32mIn[21], line 4\u001b[0m\n\u001b[0;32m      1\u001b[0m \u001b[38;5;28;01mfrom\u001b[39;00m \u001b[38;5;21;01msklearn\u001b[39;00m\u001b[38;5;21;01m.\u001b[39;00m\u001b[38;5;21;01mmodel_selection\u001b[39;00m \u001b[38;5;28;01mimport\u001b[39;00m train_test_split\n\u001b[0;32m      3\u001b[0m \u001b[38;5;66;03m# Split data for enrollment prediction\u001b[39;00m\n\u001b[1;32m----> 4\u001b[0m X_train_enroll, X_test_enroll, y_train_enroll, y_test_enroll \u001b[38;5;241m=\u001b[39m train_test_split(features, \u001b[43mtarget_enrollment\u001b[49m, test_size\u001b[38;5;241m=\u001b[39m\u001b[38;5;241m0.2\u001b[39m, random_state\u001b[38;5;241m=\u001b[39m\u001b[38;5;241m42\u001b[39m)\n\u001b[0;32m      6\u001b[0m \u001b[38;5;66;03m# Split data for graduation support prediction\u001b[39;00m\n\u001b[0;32m      7\u001b[0m X_train_grad, X_test_grad, y_train_grad, y_test_grad \u001b[38;5;241m=\u001b[39m train_test_split(features, target_graduation, test_size\u001b[38;5;241m=\u001b[39m\u001b[38;5;241m0.2\u001b[39m, random_state\u001b[38;5;241m=\u001b[39m\u001b[38;5;241m42\u001b[39m)\n",
      "\u001b[1;31mNameError\u001b[0m: name 'target_enrollment' is not defined"
     ]
    }
   ],
   "source": [
    "from sklearn.model_selection import train_test_split\n",
    "\n",
    "# Split data for enrollment prediction\n",
    "X_train_enroll, X_test_enroll, y_train_enroll, y_test_enroll = train_test_split(features, target_enrollment, test_size=0.2, random_state=42)\n",
    "\n",
    "# Split data for graduation support prediction\n",
    "X_train_grad, X_test_grad, y_train_grad, y_test_grad = train_test_split(features, target_graduation, test_size=0.2, random_state=42)\n",
    "\n",
    "# Display the shape of each set\n",
    "print(\"\\nEnrollment Prediction - Training Set Shape:\", X_train_enroll.shape)\n",
    "print(\"Graduation Support Prediction - Training Set Shape:\", X_train_grad.shape)\n"
   ]
  },
  {
   "cell_type": "code",
   "execution_count": 22,
   "id": "fba4bcb7-e247-4d8a-9191-ecaf82da910e",
   "metadata": {},
   "outputs": [
    {
     "ename": "NameError",
     "evalue": "name 'X_train_enroll' is not defined",
     "output_type": "error",
     "traceback": [
      "\u001b[1;31m---------------------------------------------------------------------------\u001b[0m",
      "\u001b[1;31mNameError\u001b[0m                                 Traceback (most recent call last)",
      "Cell \u001b[1;32mIn[22], line 6\u001b[0m\n\u001b[0;32m      4\u001b[0m \u001b[38;5;66;03m# Initialize and train the model for enrollment prediction\u001b[39;00m\n\u001b[0;32m      5\u001b[0m rf_enrollment \u001b[38;5;241m=\u001b[39m RandomForestClassifier(random_state\u001b[38;5;241m=\u001b[39m\u001b[38;5;241m42\u001b[39m)\n\u001b[1;32m----> 6\u001b[0m rf_enrollment\u001b[38;5;241m.\u001b[39mfit(\u001b[43mX_train_enroll\u001b[49m, y_train_enroll)\n\u001b[0;32m      8\u001b[0m \u001b[38;5;66;03m# Predict on the test set for enrollment\u001b[39;00m\n\u001b[0;32m      9\u001b[0m y_pred_enroll \u001b[38;5;241m=\u001b[39m rf_enrollment\u001b[38;5;241m.\u001b[39mpredict(X_test_enroll)\n",
      "\u001b[1;31mNameError\u001b[0m: name 'X_train_enroll' is not defined"
     ]
    }
   ],
   "source": [
    "from sklearn.ensemble import RandomForestClassifier\n",
    "from sklearn.metrics import accuracy_score, precision_score, recall_score, f1_score\n",
    "\n",
    "# Initialize and train the model for enrollment prediction\n",
    "rf_enrollment = RandomForestClassifier(random_state=42)\n",
    "rf_enrollment.fit(X_train_enroll, y_train_enroll)\n",
    "\n",
    "# Predict on the test set for enrollment\n",
    "y_pred_enroll = rf_enrollment.predict(X_test_enroll)\n",
    "\n",
    "# Evaluate enrollment prediction model\n",
    "print(\"\\nEnrollment Prediction Model Evaluation:\")\n",
    "print(\"Accuracy:\", accuracy_score(y_test_enroll, y_pred_enroll))\n",
    "print(\"Precision:\", precision_score(y_test_enroll, y_pred_enroll))\n",
    "print(\"Recall:\", recall_score(y_test_enroll, y_pred_enroll))\n",
    "print(\"F1 Score:\", f1_score(y_test_enroll, y_pred_enroll))\n",
    "\n",
    "# Initialize and train the model for graduation support prediction\n",
    "rf_graduation = RandomForestClassifier(random_state=42)\n",
    "rf_graduation.fit(X_train_grad, y_train_grad)\n",
    "\n",
    "# Predict on the test set for graduation support\n",
    "y_pred_grad = rf_graduation.predict(X_test_grad)\n",
    "\n",
    "# Evaluate graduation support prediction model\n",
    "print(\"\\nGraduation Support Prediction Model Evaluation:\")\n",
    "print(\"Accuracy:\", accuracy_score(y_test_grad, y_pred_grad))\n",
    "print(\"Precision:\", precision_score(y_test_grad, y_pred_grad))\n",
    "print(\"Recall:\", recall_score(y_test_grad, y_pred_grad))\n",
    "print(\"F1 Score:\", f1_score(y_test_grad, y_pred_grad))\n"
   ]
  },
  {
   "cell_type": "code",
   "execution_count": 23,
   "id": "a0c27e93-0f47-4020-875d-7c5d9294b02a",
   "metadata": {},
   "outputs": [
    {
     "ename": "NotFittedError",
     "evalue": "This RandomForestClassifier instance is not fitted yet. Call 'fit' with appropriate arguments before using this estimator.",
     "output_type": "error",
     "traceback": [
      "\u001b[1;31m---------------------------------------------------------------------------\u001b[0m",
      "\u001b[1;31mNotFittedError\u001b[0m                            Traceback (most recent call last)",
      "Cell \u001b[1;32mIn[23], line 4\u001b[0m\n\u001b[0;32m      1\u001b[0m \u001b[38;5;28;01mimport\u001b[39;00m \u001b[38;5;21;01mmatplotlib\u001b[39;00m\u001b[38;5;21;01m.\u001b[39;00m\u001b[38;5;21;01mpyplot\u001b[39;00m \u001b[38;5;28;01mas\u001b[39;00m \u001b[38;5;21;01mplt\u001b[39;00m\n\u001b[0;32m      3\u001b[0m \u001b[38;5;66;03m# Feature importance for enrollment prediction\u001b[39;00m\n\u001b[1;32m----> 4\u001b[0m importances_enroll \u001b[38;5;241m=\u001b[39m \u001b[43mrf_enrollment\u001b[49m\u001b[38;5;241;43m.\u001b[39;49m\u001b[43mfeature_importances_\u001b[49m\n\u001b[0;32m      5\u001b[0m indices_enroll \u001b[38;5;241m=\u001b[39m importances_enroll\u001b[38;5;241m.\u001b[39margsort()[::\u001b[38;5;241m-\u001b[39m\u001b[38;5;241m1\u001b[39m]\n\u001b[0;32m      6\u001b[0m features_sorted_enroll \u001b[38;5;241m=\u001b[39m [features\u001b[38;5;241m.\u001b[39mcolumns[i] \u001b[38;5;28;01mfor\u001b[39;00m i \u001b[38;5;129;01min\u001b[39;00m indices_enroll]\n",
      "File \u001b[1;32m~\\AppData\\Local\\Packages\\PythonSoftwareFoundation.Python.3.8_qbz5n2kfra8p0\\LocalCache\\local-packages\\Python38\\site-packages\\sklearn\\ensemble\\_forest.py:625\u001b[0m, in \u001b[0;36mBaseForest.feature_importances_\u001b[1;34m(self)\u001b[0m\n\u001b[0;32m    604\u001b[0m \u001b[38;5;129m@property\u001b[39m\n\u001b[0;32m    605\u001b[0m \u001b[38;5;28;01mdef\u001b[39;00m \u001b[38;5;21mfeature_importances_\u001b[39m(\u001b[38;5;28mself\u001b[39m):\n\u001b[0;32m    606\u001b[0m \u001b[38;5;250m    \u001b[39m\u001b[38;5;124;03m\"\"\"\u001b[39;00m\n\u001b[0;32m    607\u001b[0m \u001b[38;5;124;03m    The impurity-based feature importances.\u001b[39;00m\n\u001b[0;32m    608\u001b[0m \n\u001b[1;32m   (...)\u001b[0m\n\u001b[0;32m    623\u001b[0m \u001b[38;5;124;03m        array of zeros.\u001b[39;00m\n\u001b[0;32m    624\u001b[0m \u001b[38;5;124;03m    \"\"\"\u001b[39;00m\n\u001b[1;32m--> 625\u001b[0m     \u001b[43mcheck_is_fitted\u001b[49m\u001b[43m(\u001b[49m\u001b[38;5;28;43mself\u001b[39;49m\u001b[43m)\u001b[49m\n\u001b[0;32m    627\u001b[0m     all_importances \u001b[38;5;241m=\u001b[39m Parallel(n_jobs\u001b[38;5;241m=\u001b[39m\u001b[38;5;28mself\u001b[39m\u001b[38;5;241m.\u001b[39mn_jobs, prefer\u001b[38;5;241m=\u001b[39m\u001b[38;5;124m\"\u001b[39m\u001b[38;5;124mthreads\u001b[39m\u001b[38;5;124m\"\u001b[39m)(\n\u001b[0;32m    628\u001b[0m         delayed(\u001b[38;5;28mgetattr\u001b[39m)(tree, \u001b[38;5;124m\"\u001b[39m\u001b[38;5;124mfeature_importances_\u001b[39m\u001b[38;5;124m\"\u001b[39m)\n\u001b[0;32m    629\u001b[0m         \u001b[38;5;28;01mfor\u001b[39;00m tree \u001b[38;5;129;01min\u001b[39;00m \u001b[38;5;28mself\u001b[39m\u001b[38;5;241m.\u001b[39mestimators_\n\u001b[0;32m    630\u001b[0m         \u001b[38;5;28;01mif\u001b[39;00m tree\u001b[38;5;241m.\u001b[39mtree_\u001b[38;5;241m.\u001b[39mnode_count \u001b[38;5;241m>\u001b[39m \u001b[38;5;241m1\u001b[39m\n\u001b[0;32m    631\u001b[0m     )\n\u001b[0;32m    633\u001b[0m     \u001b[38;5;28;01mif\u001b[39;00m \u001b[38;5;129;01mnot\u001b[39;00m all_importances:\n",
      "File \u001b[1;32m~\\AppData\\Local\\Packages\\PythonSoftwareFoundation.Python.3.8_qbz5n2kfra8p0\\LocalCache\\local-packages\\Python38\\site-packages\\sklearn\\utils\\validation.py:1461\u001b[0m, in \u001b[0;36mcheck_is_fitted\u001b[1;34m(estimator, attributes, msg, all_or_any)\u001b[0m\n\u001b[0;32m   1458\u001b[0m     \u001b[38;5;28;01mraise\u001b[39;00m \u001b[38;5;167;01mTypeError\u001b[39;00m(\u001b[38;5;124m\"\u001b[39m\u001b[38;5;132;01m%s\u001b[39;00m\u001b[38;5;124m is not an estimator instance.\u001b[39m\u001b[38;5;124m\"\u001b[39m \u001b[38;5;241m%\u001b[39m (estimator))\n\u001b[0;32m   1460\u001b[0m \u001b[38;5;28;01mif\u001b[39;00m \u001b[38;5;129;01mnot\u001b[39;00m _is_fitted(estimator, attributes, all_or_any):\n\u001b[1;32m-> 1461\u001b[0m     \u001b[38;5;28;01mraise\u001b[39;00m NotFittedError(msg \u001b[38;5;241m%\u001b[39m {\u001b[38;5;124m\"\u001b[39m\u001b[38;5;124mname\u001b[39m\u001b[38;5;124m\"\u001b[39m: \u001b[38;5;28mtype\u001b[39m(estimator)\u001b[38;5;241m.\u001b[39m\u001b[38;5;18m__name__\u001b[39m})\n",
      "\u001b[1;31mNotFittedError\u001b[0m: This RandomForestClassifier instance is not fitted yet. Call 'fit' with appropriate arguments before using this estimator."
     ]
    }
   ],
   "source": [
    "import matplotlib.pyplot as plt\n",
    "\n",
    "# Feature importance for enrollment prediction\n",
    "importances_enroll = rf_enrollment.feature_importances_\n",
    "indices_enroll = importances_enroll.argsort()[::-1]\n",
    "features_sorted_enroll = [features.columns[i] for i in indices_enroll]\n",
    "\n",
    "plt.figure(figsize=(10, 8))\n",
    "plt.barh(features_sorted_enroll[:10], importances_enroll[indices_enroll][:10], color=\"b\")\n",
    "plt.xlabel(\"Feature Importance Score\")\n",
    "plt.title(\"Top 10 Important Features for Enrollment Prediction\")\n",
    "plt.gca().invert_yaxis()\n",
    "plt.show()\n",
    "\n",
    "# Feature importance for graduation support prediction\n",
    "importances_grad = rf_graduation.feature_importances_\n",
    "indices_grad = importances_grad.argsort()[::-1]\n",
    "features_sorted_grad = [features.columns[i] for i in indices_grad]\n",
    "\n",
    "plt.figure(figsize=(10, 8))\n",
    "plt.barh(features_sorted_grad[:10], importances_grad[indices_grad][:10], color=\"g\")\n",
    "plt.xlabel(\"Feature Importance Score\")\n",
    "plt.title(\"Top 10 Important Features for Graduation Support Prediction\")\n",
    "plt.gca().invert_yaxis()\n",
    "plt.show()\n"
   ]
  },
  {
   "cell_type": "code",
   "execution_count": null,
   "id": "26776fed-93ad-4be4-bd7c-a83452ae9baf",
   "metadata": {},
   "outputs": [],
   "source": []
  }
 ],
 "metadata": {
  "kernelspec": {
   "display_name": "Python 3 (ipykernel)",
   "language": "python",
   "name": "python3"
  },
  "language_info": {
   "codemirror_mode": {
    "name": "ipython",
    "version": 3
   },
   "file_extension": ".py",
   "mimetype": "text/x-python",
   "name": "python",
   "nbconvert_exporter": "python",
   "pygments_lexer": "ipython3",
   "version": "3.8.10"
  }
 },
 "nbformat": 4,
 "nbformat_minor": 5
}
